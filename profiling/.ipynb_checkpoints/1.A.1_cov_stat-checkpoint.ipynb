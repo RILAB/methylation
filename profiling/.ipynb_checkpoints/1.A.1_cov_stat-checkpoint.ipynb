{
 "cells": [
  {
   "cell_type": "code",
   "execution_count": 1,
   "metadata": {
    "collapsed": false
   },
   "outputs": [
    {
     "name": "stderr",
     "output_type": "stream",
     "text": [
      "/home/jolyang/bin/anaconda/lib/python2.7/site-packages/matplotlib/font_manager.py:273: UserWarning: Matplotlib is building the font cache using fc-list. This may take a moment.\n",
      "  warnings.warn('Matplotlib is building the font cache using fc-list. This may take a moment.')\n"
     ]
    }
   ],
   "source": [
    "#!/usr/bin/env python\n",
    "from __future__ import division\n",
    "import re\n",
    "import os\n",
    "import argparse\n",
    "import numpy as np\n",
    "import pandas as pd\n",
    "from Bio import SeqIO\n",
    "#import matplotlib.pyplot as plt"
   ]
  },
  {
   "cell_type": "markdown",
   "metadata": {
    "collapsed": true
   },
   "source": [
    "## get the overall CG, CHG and CHH from a reference fasta file"
   ]
  },
  {
   "cell_type": "code",
   "execution_count": 79,
   "metadata": {
    "collapsed": true
   },
   "outputs": [],
   "source": [
    "def get_ctxnum(reffile):\n",
    "    \"\"\"\n",
    "    Get the number of CG/CHG/CHH from a reference genome FASTA file\n",
    "    \"\"\"\n",
    "    with open(reffile) as infile:\n",
    "        fasta = SeqIO.to_dict(SeqIO.parse(infile, 'fasta'))\n",
    "        for chr in fasta:\n",
    "            fasta[chr] = str(fasta[chr].seq).upper()\n",
    "    num_cg = 0\n",
    "    num_chg = 0\n",
    "    num_chh = 0\n",
    "    for chr in fasta:\n",
    "        num_cg += len([match.start() for match in re.finditer(r'(?=(CG))', fasta[chr])])\n",
    "        num_cg += len([match.start()-1 for match in re.finditer(r'(?<=(CG))', fasta[chr])])\n",
    "        num_chg += len([match.start() for match in re.finditer(r'(?=(C[ACT]G))', fasta[chr])])\n",
    "        num_chg += len([match.start()-1 for match in re.finditer(r'(?<=(C[AGT]G))', fasta[chr])])\n",
    "        num_chh += len([match.start() for match in re.finditer(r'(?=(C[ACT][ACT]))', fasta[chr])])\n",
    "        num_chh += len([match.start()-1 for match in re.finditer(r'(?<=([AGT][AGT]G))', fasta[chr])])\n",
    "    return num_cg, num_chg, num_chh\n"
   ]
  },
  {
   "cell_type": "code",
   "execution_count": 9,
   "metadata": {
    "collapsed": false
   },
   "outputs": [],
   "source": [
    "res = get_ctxnum(fa)"
   ]
  },
  {
   "cell_type": "code",
   "execution_count": 11,
   "metadata": {
    "collapsed": false
   },
   "outputs": [
    {
     "data": {
      "text/plain": [
       "(180125000, 158277169, 624401016)"
      ]
     },
     "execution_count": 11,
     "metadata": {},
     "output_type": "execute_result"
    }
   ],
   "source": [
    "res"
   ]
  },
  {
   "cell_type": "code",
   "execution_count": 76,
   "metadata": {
    "collapsed": false
   },
   "outputs": [],
   "source": [
    "def read_ctxcov(cgmapfile):\n",
    "    \"\"\"\n",
    "    Read the column of coverage from CGmap file\n",
    "    \"\"\"\n",
    "    cgmap = pd.read_table(cgmapfile, header=True, usecols=[3, 4, 5], names=['ctx', \"ratio\", 'cov'])\n",
    "    cov_cg = cgmap[cgmap['ctx'] == 'CG']['cov']\n",
    "    cov_chg = cgmap[cgmap['ctx'] == 'CHG']['cov']\n",
    "    cov_chh = cgmap[cgmap['ctx'] == 'CHH']['cov']\n",
    "    ratio_cg = cgmap[cgmap['ctx'] == 'CG']['ratio'].mean()\n",
    "    ratio_chg = cgmap[cgmap['ctx'] == 'CHG']['ratio'].mean()\n",
    "    ratio_chh = cgmap[cgmap['ctx'] == 'CHH']['ratio'].mean()\n",
    "    tot_cg = len(cov_cg)\n",
    "    tot_chg = len(cov_chg)\n",
    "    tot_chh = len(cov_chh)\n",
    "    cov_cg = cov_cg.mean()\n",
    "    cov_chg = cov_chg.mean()\n",
    "    cov_chh = cov_chh.mean()\n",
    "    \n",
    "    return [cov_cg, cov_chg, cov_chh,\n",
    "           ratio_cg, ratio_chg, ratio_chh,\n",
    "           tot_cg, tot_chg, tot_chh]"
   ]
  },
  {
   "cell_type": "code",
   "execution_count": 73,
   "metadata": {
    "collapsed": false
   },
   "outputs": [],
   "source": [
    "cgmapfile = \"/group/jrigrp4/BS_teo20/BSMAP_round2/test_methratio.txt\""
   ]
  },
  {
   "cell_type": "code",
   "execution_count": 77,
   "metadata": {
    "collapsed": false
   },
   "outputs": [],
   "source": [
    "res3 = read_ctxcov(cgmapfile)"
   ]
  },
  {
   "cell_type": "code",
   "execution_count": 37,
   "metadata": {
    "collapsed": false
   },
   "outputs": [],
   "source": [
    "cgmapfile = \"/group/jrigrp4/BS_teo20/BSMAP_round2/JRA1_methratio.txt\""
   ]
  },
  {
   "cell_type": "code",
   "execution_count": 38,
   "metadata": {
    "collapsed": false
   },
   "outputs": [],
   "source": [
    "res2 = read_ctxcov(cgmapfile)"
   ]
  },
  {
   "cell_type": "code",
   "execution_count": 83,
   "metadata": {
    "collapsed": false
   },
   "outputs": [],
   "source": [
    "import glob\n",
    "f = glob.glob(\"/group/jrigrp4/BS_teo20/BSMAP_round2/*.in\")"
   ]
  },
  {
   "cell_type": "code",
   "execution_count": 84,
   "metadata": {
    "collapsed": false
   },
   "outputs": [
    {
     "data": {
      "text/plain": [
       "1"
      ]
     },
     "execution_count": 84,
     "metadata": {},
     "output_type": "execute_result"
    }
   ],
   "source": [
    "len(f)"
   ]
  },
  {
   "cell_type": "code",
   "execution_count": 85,
   "metadata": {
    "collapsed": false
   },
   "outputs": [
    {
     "ename": "SyntaxError",
     "evalue": "invalid syntax (<ipython-input-85-235bb188b91a>, line 2)",
     "output_type": "error",
     "traceback": [
      "\u001b[1;36m  File \u001b[1;32m\"<ipython-input-85-235bb188b91a>\"\u001b[1;36m, line \u001b[1;32m2\u001b[0m\n\u001b[1;33m    open(outfile, 'a') as out:\u001b[0m\n\u001b[1;37m                        ^\u001b[0m\n\u001b[1;31mSyntaxError\u001b[0m\u001b[1;31m:\u001b[0m invalid syntax\n"
     ]
    }
   ],
   "source": [
    "outfile=\"data/res.txt\"\n",
    "with open(outfile, 'a') as out:\n",
    "    for file in f:\n",
    "        res = read_ctxcov(cgmapfile=file)\n",
    "        out.write(file + \"\\t\" + \"\\t\".join(str(res)) + \"\\n\")"
   ]
  },
  {
   "cell_type": "code",
   "execution_count": null,
   "metadata": {
    "collapsed": false
   },
   "outputs": [],
   "source": []
  },
  {
   "cell_type": "code",
   "execution_count": null,
   "metadata": {
    "collapsed": false
   },
   "outputs": [],
   "source": []
  },
  {
   "cell_type": "code",
   "execution_count": null,
   "metadata": {
    "collapsed": false
   },
   "outputs": [],
   "source": []
  },
  {
   "cell_type": "code",
   "execution_count": 82,
   "metadata": {
    "collapsed": false
   },
   "outputs": [
    {
     "data": {
      "text/plain": [
       "['/group/jrigrp4/BS_teo20/BSMAP_round2/JRB3_methratio.txt',\n",
       " '/group/jrigrp4/BS_teo20/BSMAP_round2/JRA2_methratio.txt',\n",
       " '/group/jrigrp4/BS_teo20/BSMAP_round2/JRH1_methratio.txt',\n",
       " '/group/jrigrp4/BS_teo20/BSMAP_round2/JRE1_methratio.txt',\n",
       " '/group/jrigrp4/BS_teo20/BSMAP_round2/JRD2_methratio.txt',\n",
       " '/group/jrigrp4/BS_teo20/BSMAP_round2/JRC1_methratio.txt',\n",
       " '/group/jrigrp4/BS_teo20/BSMAP_round2/JRB2_methratio.txt',\n",
       " '/group/jrigrp4/BS_teo20/BSMAP_round2/JRA1_methratio.txt',\n",
       " '/group/jrigrp4/BS_teo20/BSMAP_round2/JRG1_methratio.txt',\n",
       " '/group/jrigrp4/BS_teo20/BSMAP_round2/JRF1_methratio.txt',\n",
       " '/group/jrigrp4/BS_teo20/BSMAP_round2/JRD1_methratio.txt',\n",
       " '/group/jrigrp4/BS_teo20/BSMAP_round2/JRC3_methratio.txt',\n",
       " '/group/jrigrp4/BS_teo20/BSMAP_round2/JRB1_methratio.txt',\n",
       " '/group/jrigrp4/BS_teo20/BSMAP_round2/JRA3_methratio.txt',\n",
       " '/group/jrigrp4/BS_teo20/BSMAP_round2/JRD3_methratio.txt',\n",
       " '/group/jrigrp4/BS_teo20/BSMAP_round2/JRH2_methratio.txt',\n",
       " '/group/jrigrp4/BS_teo20/BSMAP_round2/JRG2_methratio.txt',\n",
       " '/group/jrigrp4/BS_teo20/BSMAP_round2/JRF2_methratio.txt',\n",
       " '/group/jrigrp4/BS_teo20/BSMAP_round2/JRC2_methratio.txt',\n",
       " '/group/jrigrp4/BS_teo20/BSMAP_round2/JRE2_methratio.txt']"
      ]
     },
     "execution_count": 82,
     "metadata": {},
     "output_type": "execute_result"
    }
   ],
   "source": [
    "f"
   ]
  },
  {
   "cell_type": "code",
   "execution_count": null,
   "metadata": {
    "collapsed": false
   },
   "outputs": [],
   "source": []
  },
  {
   "cell_type": "code",
   "execution_count": null,
   "metadata": {
    "collapsed": false
   },
   "outputs": [],
   "source": []
  },
  {
   "cell_type": "code",
   "execution_count": null,
   "metadata": {
    "collapsed": false
   },
   "outputs": [],
   "source": []
  },
  {
   "cell_type": "code",
   "execution_count": null,
   "metadata": {
    "collapsed": false
   },
   "outputs": [],
   "source": []
  },
  {
   "cell_type": "code",
   "execution_count": null,
   "metadata": {
    "collapsed": false
   },
   "outputs": [],
   "source": []
  },
  {
   "cell_type": "code",
   "execution_count": null,
   "metadata": {
    "collapsed": false
   },
   "outputs": [],
   "source": []
  },
  {
   "cell_type": "code",
   "execution_count": null,
   "metadata": {
    "collapsed": false
   },
   "outputs": [],
   "source": []
  },
  {
   "cell_type": "code",
   "execution_count": null,
   "metadata": {
    "collapsed": false
   },
   "outputs": [],
   "source": []
  },
  {
   "cell_type": "code",
   "execution_count": null,
   "metadata": {
    "collapsed": true
   },
   "outputs": [],
   "source": []
  }
 ],
 "metadata": {
  "kernelspec": {
   "display_name": "Python 2",
   "language": "python",
   "name": "python2"
  },
  "language_info": {
   "codemirror_mode": {
    "name": "ipython",
    "version": 2
   },
   "file_extension": ".py",
   "mimetype": "text/x-python",
   "name": "python",
   "nbconvert_exporter": "python",
   "pygments_lexer": "ipython2",
   "version": "2.7.11"
  }
 },
 "nbformat": 4,
 "nbformat_minor": 0
}
